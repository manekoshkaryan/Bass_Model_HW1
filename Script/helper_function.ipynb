{
 "cells": [
  {
   "cell_type": "code",
   "execution_count": 2,
   "id": "43c06352",
   "metadata": {},
   "outputs": [],
   "source": [
    "import numpy as np"
   ]
  },
  {
   "cell_type": "code",
   "execution_count": null,
   "id": "4a51131d",
   "metadata": {},
   "outputs": [],
   "source": []
  },
  {
   "cell_type": "code",
   "execution_count": 3,
   "id": "4eaa017a",
   "metadata": {},
   "outputs": [],
   "source": [
    "def bass_model(t, p, q, M):\n",
    "    return (M * (p + q) ** 2 * np.exp(-(p + q) * t)) / (p + q * np.exp(-(p + q) * t)) ** 2"
   ]
  },
  {
   "cell_type": "code",
   "execution_count": null,
   "id": "698818e1",
   "metadata": {},
   "outputs": [],
   "source": [
    "\n",
    "import pandas as pd\n",
    "from pathlib import Path\n",
    "\n",
    "def load_and_clean_data():\n",
    "    \n",
    "    current_file_dir = Path.cwd()\n",
    "    data_file = current_file_dir.parent / \"data\" / \"TV2.xlsx\"\n",
    "    \n",
    "    df = pd.read_excel(data_file, sheet_name=\"Data\", skiprows=4, header=None)\n",
    "   \n",
    "    df_cleaned = df[[1, 3]]\n",
    "    df_cleaned.columns = [\"Year\", \"LCD TV\"]\n",
    "    df_cleaned = df_cleaned.dropna(subset=[\"Year\"])\n",
    "    df_cleaned[\"Year\"] = df_cleaned[\"Year\"].astype(int)\n",
    "    \n",
    "    return df_cleaned\n"
   ]
  }
 ],
 "metadata": {
  "kernelspec": {
   "display_name": "Python 3 (ipykernel)",
   "language": "python",
   "name": "python3"
  },
  "language_info": {
   "codemirror_mode": {
    "name": "ipython",
    "version": 3
   },
   "file_extension": ".py",
   "mimetype": "text/x-python",
   "name": "python",
   "nbconvert_exporter": "python",
   "pygments_lexer": "ipython3",
   "version": "3.9.13"
  }
 },
 "nbformat": 4,
 "nbformat_minor": 5
}
